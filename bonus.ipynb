{
 "cells": [
  {
   "cell_type": "code",
   "execution_count": 1,
   "metadata": {},
   "outputs": [],
   "source": [
    "import os\n",
    "\n",
    "class EmptyDirectoryError(BaseException):\n",
    "    pass\n",
    "\n",
    "class DirectoryIndex:\n",
    "    \n",
    "    def __init__(self, dirpath: str, encoding: str='utf-8'):\n",
    "        self.dirpath = dirpath\n",
    "        self.encoding = encoding\n",
    "        self.__last_number = None\n",
    "        self.__n_texts = None\n",
    "        self.__unique_words_dict = None\n",
    "        self.__word_in_text = None\n",
    "        self.__index = None\n",
    "    \n",
    "    def _read_file(self, file_name):\n",
    "        unique_words = set()\n",
    "        with open(f\"{self.dirpath}{file_name}\", \"r\") as file:\n",
    "            for string in file:\n",
    "                string = string.lower().split()\n",
    "                #string = \"\".join(list(map(lambda char: char if (char.isalpha() or char.isspace()) else \"\", string.lower()))).split()\n",
    "                for word in string:\n",
    "                    unique_words.add(word)\n",
    "        return unique_words\n",
    "    \n",
    "    def find_documents(self, word: str) -> list:\n",
    "        try:\n",
    "            word_id = self.__unique_words_dict[word]\n",
    "        except BaseException:\n",
    "            return []\n",
    "        \n",
    "        return self.__index[word_id]\n",
    "    \n",
    "    def update(self, filepath: str, encoding: str='utf-8'):\n",
    "        unique = self._read_file(filepath)\n",
    "        for word in unique:\n",
    "            if word not in self.__unique_words_dict:\n",
    "                self.__unique_words_dict[word] = self.__last_number\n",
    "                self.__last_number += 1\n",
    "            word_id = self.__unique_words_dict[word]\n",
    "            if word_id not in self.__index:\n",
    "                self.__index[word_id] = []\n",
    "            if filepath not in self.__index[word_id]:\n",
    "                self.__index[word_id].append(filepath)\n",
    "    \n",
    "    @property\n",
    "    def inverted_index(self):\n",
    "        all_files = [f for f in os.listdir(self.dirpath) if os.path.isfile(os.path.join(self.dirpath, f))]\n",
    "        if len(all_files) == 0:\n",
    "            raise EmptyDirectoryError\n",
    "        af0 = all_files.copy()\n",
    "        unique_words_dict = {}\n",
    "        word_in_text = set()\n",
    "        inversed_index = {}\n",
    "        word_id = 0\n",
    "        \n",
    "        while af0:\n",
    "            file = af0.pop()\n",
    "            temp_words = self._read_file(file)\n",
    "            for w in temp_words:\n",
    "                if w not in unique_words_dict:\n",
    "                    unique_words_dict[w] = word_id\n",
    "                word_id += 1\n",
    "                \n",
    "        self.__last_number = word_id + 1\n",
    "                \n",
    "        for file in all_files:\n",
    "            temp_words = self._read_file(file)\n",
    "            for word in temp_words:\n",
    "                word_in_text.add((unique_words_dict[word], file))\n",
    "        \n",
    "        for word_id, text_id in word_in_text:\n",
    "            if word_id not in inversed_index:\n",
    "                inversed_index[word_id] = []\n",
    "            inversed_index[word_id].append(text_id)\n",
    "        \n",
    "        self.__unique_words_dict = unique_words_dict\n",
    "        self.__word_in_text = word_in_text        \n",
    "        self.__index = inversed_index\n",
    "            "
   ]
  },
  {
   "cell_type": "code",
   "execution_count": 8,
   "metadata": {},
   "outputs": [],
   "source": [
    "dindex = DirectoryIndex(\"../dataset/\")"
   ]
  },
  {
   "cell_type": "code",
   "execution_count": 9,
   "metadata": {},
   "outputs": [],
   "source": [
    "dindex.inverted_index"
   ]
  },
  {
   "cell_type": "code",
   "execution_count": 10,
   "metadata": {},
   "outputs": [
    {
     "data": {
      "text/plain": [
       "[0, 1, 2, 3, 7, 12, 15, 19, 20, 30, 33, 34, 39, 44]"
      ]
     },
     "execution_count": 10,
     "metadata": {},
     "output_type": "execute_result"
    }
   ],
   "source": [
    "arr = dindex.find_documents('shakespeare')\n",
    "sorted(map(int, arr))"
   ]
  },
  {
   "cell_type": "code",
   "execution_count": null,
   "metadata": {},
   "outputs": [],
   "source": [
    "dindex.update(\"bom\")"
   ]
  },
  {
   "cell_type": "code",
   "execution_count": null,
   "metadata": {},
   "outputs": [],
   "source": [
    "dindex.find_documents('bom')"
   ]
  }
 ],
 "metadata": {
  "kernelspec": {
   "display_name": "Python 3.8.13 ('based')",
   "language": "python",
   "name": "python3"
  },
  "language_info": {
   "codemirror_mode": {
    "name": "ipython",
    "version": 3
   },
   "file_extension": ".py",
   "mimetype": "text/x-python",
   "name": "python",
   "nbconvert_exporter": "python",
   "pygments_lexer": "ipython3",
   "version": "3.8.13"
  },
  "orig_nbformat": 4,
  "vscode": {
   "interpreter": {
    "hash": "a65f2b23feafe444b6aea4265875412400e01d03563f815562f9bbbaa6bbe77f"
   }
  }
 },
 "nbformat": 4,
 "nbformat_minor": 2
}
